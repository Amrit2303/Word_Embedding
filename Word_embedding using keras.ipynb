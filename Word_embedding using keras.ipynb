{
 "cells": [
  {
   "cell_type": "code",
   "execution_count": 1,
   "metadata": {},
   "outputs": [],
   "source": [
    "import numpy as np\n",
    "from tensorflow.keras.preprocessing.text import one_hot\n",
    "from tensorflow.keras.preprocessing.sequence import pad_sequences\n",
    "from tensorflow.keras.models import Sequential\n",
    "from tensorflow.keras.layers import Dense\n",
    "from tensorflow.keras.layers import Flatten\n",
    "from tensorflow.keras.layers import Embedding\n"
   ]
  },
  {
   "cell_type": "code",
   "execution_count": 2,
   "metadata": {},
   "outputs": [],
   "source": [
    "reviews = ['nice food',\n",
    "        'amazing restaurant',\n",
    "        'too good',\n",
    "        'just loved it!',\n",
    "        'will go again',\n",
    "        'horrible food',\n",
    "        'never go there',\n",
    "        'poor service',\n",
    "        'poor quality',\n",
    "        'needs improvement']\n"
   ]
  },
  {
   "cell_type": "code",
   "execution_count": 3,
   "metadata": {},
   "outputs": [
    {
     "data": {
      "text/plain": [
       "['nice food',\n",
       " 'amazing restaurant',\n",
       " 'too good',\n",
       " 'just loved it!',\n",
       " 'will go again',\n",
       " 'horrible food',\n",
       " 'never go there',\n",
       " 'poor service',\n",
       " 'poor quality',\n",
       " 'needs improvement']"
      ]
     },
     "execution_count": 3,
     "metadata": {},
     "output_type": "execute_result"
    }
   ],
   "source": [
    "\n",
    "reviews"
   ]
  },
  {
   "cell_type": "code",
   "execution_count": 4,
   "metadata": {},
   "outputs": [],
   "source": [
    "sentiment = np.array([1,1,1,1,1,0,0,0,0,0])"
   ]
  },
  {
   "cell_type": "code",
   "execution_count": 5,
   "metadata": {},
   "outputs": [
    {
     "data": {
      "text/plain": [
       "array([1, 1, 1, 1, 1, 0, 0, 0, 0, 0])"
      ]
     },
     "execution_count": 5,
     "metadata": {},
     "output_type": "execute_result"
    }
   ],
   "source": [
    "sentiment\n"
   ]
  },
  {
   "cell_type": "code",
   "execution_count": 6,
   "metadata": {},
   "outputs": [
    {
     "data": {
      "text/plain": [
       "[62, 74]"
      ]
     },
     "execution_count": 6,
     "metadata": {},
     "output_type": "execute_result"
    }
   ],
   "source": [
    "one_hot(\"amazing restaurant\",75)\n"
   ]
  },
  {
   "cell_type": "code",
   "execution_count": 7,
   "metadata": {},
   "outputs": [],
   "source": [
    "vocab_size=75"
   ]
  },
  {
   "cell_type": "code",
   "execution_count": 8,
   "metadata": {},
   "outputs": [],
   "source": [
    "encoded_views=[one_hot(d,vocab_size) for d in reviews]"
   ]
  },
  {
   "cell_type": "code",
   "execution_count": 9,
   "metadata": {},
   "outputs": [
    {
     "data": {
      "text/plain": [
       "[[54, 9],\n",
       " [62, 74],\n",
       " [37, 72],\n",
       " [38, 42, 58],\n",
       " [24, 65, 29],\n",
       " [5, 9],\n",
       " [54, 65, 73],\n",
       " [36, 60],\n",
       " [36, 55],\n",
       " [15, 56]]"
      ]
     },
     "execution_count": 9,
     "metadata": {},
     "output_type": "execute_result"
    }
   ],
   "source": [
    "encoded_views"
   ]
  },
  {
   "cell_type": "code",
   "execution_count": 10,
   "metadata": {},
   "outputs": [
    {
     "name": "stdout",
     "output_type": "stream",
     "text": [
      "[[54  9  0]\n",
      " [62 74  0]\n",
      " [37 72  0]\n",
      " [38 42 58]\n",
      " [24 65 29]\n",
      " [ 5  9  0]\n",
      " [54 65 73]\n",
      " [36 60  0]\n",
      " [36 55  0]\n",
      " [15 56  0]]\n"
     ]
    }
   ],
   "source": [
    "max_length = 3\n",
    "padded_reviews = pad_sequences(encoded_views, maxlen=max_length, padding='post')\n",
    "print(padded_reviews)"
   ]
  },
  {
   "cell_type": "code",
   "execution_count": 11,
   "metadata": {},
   "outputs": [],
   "source": [
    "embeded_vector_size = 4\n",
    "\n",
    "model = Sequential()\n",
    "model.add(Embedding(vocab_size, embeded_vector_size, input_length=max_length,name=\"embedding\"))\n",
    "model.add(Flatten())\n",
    "model.add(Dense(1, activation='tanh'))"
   ]
  },
  {
   "cell_type": "code",
   "execution_count": 12,
   "metadata": {},
   "outputs": [],
   "source": [
    "X = padded_reviews\n",
    "y = sentiment"
   ]
  },
  {
   "cell_type": "code",
   "execution_count": 13,
   "metadata": {},
   "outputs": [
    {
     "name": "stdout",
     "output_type": "stream",
     "text": [
      "Model: \"sequential\"\n",
      "_________________________________________________________________\n",
      " Layer (type)                Output Shape              Param #   \n",
      "=================================================================\n",
      " embedding (Embedding)       (None, 3, 4)              300       \n",
      "                                                                 \n",
      " flatten (Flatten)           (None, 12)                0         \n",
      "                                                                 \n",
      " dense (Dense)               (None, 1)                 13        \n",
      "                                                                 \n",
      "=================================================================\n",
      "Total params: 313\n",
      "Trainable params: 313\n",
      "Non-trainable params: 0\n",
      "_________________________________________________________________\n",
      "None\n"
     ]
    }
   ],
   "source": [
    "model.compile(optimizer='adam', loss='binary_crossentropy', metrics=['accuracy'])\n",
    "print(model.summary())"
   ]
  },
  {
   "cell_type": "code",
   "execution_count": 14,
   "metadata": {},
   "outputs": [
    {
     "name": "stdout",
     "output_type": "stream",
     "text": [
      "Epoch 1/30\n",
      "1/1 [==============================] - 0s 335ms/step - loss: 5.5293 - accuracy: 0.5000\n",
      "Epoch 2/30\n",
      "1/1 [==============================] - 0s 15ms/step - loss: 5.4523 - accuracy: 0.5000\n",
      "Epoch 3/30\n",
      "1/1 [==============================] - 0s 0s/step - loss: 5.4014 - accuracy: 0.5000\n",
      "Epoch 4/30\n",
      "1/1 [==============================] - 0s 5ms/step - loss: 5.3630 - accuracy: 0.5000\n",
      "Epoch 5/30\n",
      "1/1 [==============================] - 0s 5ms/step - loss: 5.3320 - accuracy: 0.5000\n",
      "Epoch 6/30\n",
      "1/1 [==============================] - 0s 3ms/step - loss: 5.3061 - accuracy: 0.5000\n",
      "Epoch 7/30\n",
      "1/1 [==============================] - 0s 4ms/step - loss: 5.2841 - accuracy: 0.5000\n",
      "Epoch 8/30\n",
      "1/1 [==============================] - 0s 3ms/step - loss: 5.2649 - accuracy: 0.5000\n",
      "Epoch 9/30\n",
      "1/1 [==============================] - 0s 3ms/step - loss: 5.2479 - accuracy: 0.5000\n",
      "Epoch 10/30\n",
      "1/1 [==============================] - 0s 4ms/step - loss: 5.2327 - accuracy: 0.5000\n",
      "Epoch 11/30\n",
      "1/1 [==============================] - 0s 4ms/step - loss: 5.2189 - accuracy: 0.5000\n",
      "Epoch 12/30\n",
      "1/1 [==============================] - 0s 3ms/step - loss: 5.2064 - accuracy: 0.5000\n",
      "Epoch 13/30\n",
      "1/1 [==============================] - 0s 5ms/step - loss: 5.1949 - accuracy: 0.5000\n",
      "Epoch 14/30\n",
      "1/1 [==============================] - 0s 4ms/step - loss: 5.1843 - accuracy: 0.5000\n",
      "Epoch 15/30\n",
      "1/1 [==============================] - 0s 3ms/step - loss: 5.1745 - accuracy: 0.5000\n",
      "Epoch 16/30\n",
      "1/1 [==============================] - 0s 5ms/step - loss: 5.1654 - accuracy: 0.5000\n",
      "Epoch 17/30\n",
      "1/1 [==============================] - 0s 5ms/step - loss: 5.1569 - accuracy: 0.5000\n",
      "Epoch 18/30\n",
      "1/1 [==============================] - 0s 3ms/step - loss: 5.1489 - accuracy: 0.5000\n",
      "Epoch 19/30\n",
      "1/1 [==============================] - 0s 4ms/step - loss: 5.1414 - accuracy: 0.5000\n",
      "Epoch 20/30\n",
      "1/1 [==============================] - 0s 5ms/step - loss: 5.1343 - accuracy: 0.5000\n",
      "Epoch 21/30\n",
      "1/1 [==============================] - 0s 3ms/step - loss: 5.1276 - accuracy: 0.5000\n",
      "Epoch 22/30\n",
      "1/1 [==============================] - 0s 3ms/step - loss: 5.1212 - accuracy: 0.5000\n",
      "Epoch 23/30\n",
      "1/1 [==============================] - 0s 5ms/step - loss: 5.1152 - accuracy: 0.5000\n",
      "Epoch 24/30\n",
      "1/1 [==============================] - 0s 2ms/step - loss: 5.1094 - accuracy: 0.5000\n",
      "Epoch 25/30\n",
      "1/1 [==============================] - 0s 2ms/step - loss: 5.1040 - accuracy: 0.5000\n",
      "Epoch 26/30\n",
      "1/1 [==============================] - 0s 5ms/step - loss: 5.0987 - accuracy: 0.5000\n",
      "Epoch 27/30\n",
      "1/1 [==============================] - 0s 3ms/step - loss: 5.0937 - accuracy: 0.5000\n",
      "Epoch 28/30\n",
      "1/1 [==============================] - 0s 3ms/step - loss: 5.0889 - accuracy: 0.5000\n",
      "Epoch 29/30\n",
      "1/1 [==============================] - 0s 5ms/step - loss: 5.0842 - accuracy: 0.5000\n",
      "Epoch 30/30\n",
      "1/1 [==============================] - 0s 3ms/step - loss: 5.0798 - accuracy: 0.5000\n"
     ]
    },
    {
     "data": {
      "text/plain": [
       "<keras.callbacks.History at 0x260de86de50>"
      ]
     },
     "execution_count": 14,
     "metadata": {},
     "output_type": "execute_result"
    }
   ],
   "source": [
    "model.fit(X,y,epochs=30)"
   ]
  },
  {
   "cell_type": "code",
   "execution_count": 15,
   "metadata": {},
   "outputs": [
    {
     "name": "stdout",
     "output_type": "stream",
     "text": [
      "Model: \"sequential\"\n",
      "_________________________________________________________________\n",
      " Layer (type)                Output Shape              Param #   \n",
      "=================================================================\n",
      " embedding (Embedding)       (None, 3, 4)              300       \n",
      "                                                                 \n",
      " flatten (Flatten)           (None, 12)                0         \n",
      "                                                                 \n",
      " dense (Dense)               (None, 1)                 13        \n",
      "                                                                 \n",
      "=================================================================\n",
      "Total params: 313\n",
      "Trainable params: 313\n",
      "Non-trainable params: 0\n",
      "_________________________________________________________________\n"
     ]
    }
   ],
   "source": [
    "model.summary()"
   ]
  },
  {
   "cell_type": "code",
   "execution_count": 16,
   "metadata": {},
   "outputs": [
    {
     "name": "stdout",
     "output_type": "stream",
     "text": [
      "1/1 [==============================] - 0s 99ms/step - loss: 5.0755 - accuracy: 0.5000\n"
     ]
    },
    {
     "data": {
      "text/plain": [
       "[5.07546329498291, 0.5]"
      ]
     },
     "execution_count": 16,
     "metadata": {},
     "output_type": "execute_result"
    }
   ],
   "source": [
    "model.evaluate(X,y)"
   ]
  },
  {
   "cell_type": "code",
   "execution_count": 17,
   "metadata": {},
   "outputs": [
    {
     "data": {
      "text/plain": [
       "75"
      ]
     },
     "execution_count": 17,
     "metadata": {},
     "output_type": "execute_result"
    }
   ],
   "source": [
    "weights = model.get_layer('embedding').get_weights()[0]\n",
    "len(weights)\n"
   ]
  },
  {
   "cell_type": "code",
   "execution_count": 18,
   "metadata": {},
   "outputs": [
    {
     "data": {
      "text/plain": [
       "array([-0.02349632,  0.0132453 ,  0.01194156, -0.0158842 ], dtype=float32)"
      ]
     },
     "execution_count": 18,
     "metadata": {},
     "output_type": "execute_result"
    }
   ],
   "source": [
    "weights[74]"
   ]
  },
  {
   "cell_type": "code",
   "execution_count": 19,
   "metadata": {},
   "outputs": [
    {
     "data": {
      "text/plain": [
       "array([ 0.01745275, -0.02478452, -0.02008945,  0.04160753], dtype=float32)"
      ]
     },
     "execution_count": 19,
     "metadata": {},
     "output_type": "execute_result"
    }
   ],
   "source": [
    "weights[37]"
   ]
  },
  {
   "cell_type": "code",
   "execution_count": 20,
   "metadata": {},
   "outputs": [
    {
     "data": {
      "text/plain": [
       "array([ 0.01954149, -0.01334568,  0.03727639, -0.02344668], dtype=float32)"
      ]
     },
     "execution_count": 20,
     "metadata": {},
     "output_type": "execute_result"
    }
   ],
   "source": [
    "weights[11]"
   ]
  },
  {
   "cell_type": "code",
   "execution_count": 21,
   "metadata": {},
   "outputs": [
    {
     "data": {
      "text/plain": [
       "array([ 0.02168914,  0.0351262 ,  0.04486316, -0.04225928], dtype=float32)"
      ]
     },
     "execution_count": 21,
     "metadata": {},
     "output_type": "execute_result"
    }
   ],
   "source": [
    "weights[36]"
   ]
  },
  {
   "cell_type": "code",
   "execution_count": null,
   "metadata": {},
   "outputs": [],
   "source": []
  }
 ],
 "metadata": {
  "kernelspec": {
   "display_name": "Python 3",
   "language": "python",
   "name": "python3"
  },
  "language_info": {
   "codemirror_mode": {
    "name": "ipython",
    "version": 3
   },
   "file_extension": ".py",
   "mimetype": "text/x-python",
   "name": "python",
   "nbconvert_exporter": "python",
   "pygments_lexer": "ipython3",
   "version": "3.8.5"
  }
 },
 "nbformat": 4,
 "nbformat_minor": 4
}
